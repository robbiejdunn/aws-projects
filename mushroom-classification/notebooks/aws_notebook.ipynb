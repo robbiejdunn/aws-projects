{
 "cells": [
  {
   "cell_type": "markdown",
   "metadata": {},
   "source": [
    "# Copy of the AWS notebook\n",
    "\n",
    "This notebook contains the code that was stored within the AWS sagemaker notebook before I tore it down with terraform."
   ]
  },
  {
   "cell_type": "code",
   "execution_count": null,
   "metadata": {},
   "outputs": [],
   "source": [
    "import pandas as pd\n",
    "from sagemaker import get_execution_role\n",
    "\n",
    "role = get_execution_role()\n",
    "bucket='mushroom-classification-bucket-newly-largely-moral-mustang'\n",
    "data_key = 'mushrooms.csv'\n",
    "data_location = 's3://{}/{}'.format(bucket, data_key)\n",
    "\n",
    "df = pd.read_csv(data_location)"
   ]
  },
  {
   "cell_type": "code",
   "execution_count": null,
   "metadata": {},
   "outputs": [],
   "source": [
    "mushroom_data = {\n",
    "    \"class\": {\"e\": \"edible\", \"p\": \"poisonous\"},\n",
    "    \"cap-shape\": {\"b\": \"bell\", \"c\": \"conical\", \"x\": \"convex\", \"f\": \"flat\", \"k\": \"knobbed\", \"s\": \"sunken\"},\n",
    "    \"cap-surface\": {\"f\": \"fibrous\", \"g\": \"grooves\", \"y\": \"scaly\", \"s\": \"smooth\"},\n",
    "    \"cap-color\": {\"n\": \"brown\", \"b\": \"buff\", \"c\": \"cinnamon\", \"g\": \"gray\", \"r\": \"green\", \"p\": \"pink\", \"u\": \"purple\", \"e\": \"red\", \"w\": \"white\", \"y\": \"yellow\"},\n",
    "    \"bruises\": {\"t\": \"bruises\", \"f\": \"no\"},\n",
    "    \"odor\": {\"a\": \"almond\", \"l\": \"anise\", \"c\": \"creosote\", \"y\": \"fishy\", \"f\": \"foul\", \"m\": \"musty\", \"n\": \"none\", \"p\": \"pungent\", \"s\": \"spicy\"},\n",
    "    \"gill-attachment\": {\"a\": \"attached\", \"d\": \"descending\", \"f\": \"free\", \"n\": \"notched\"},\n",
    "    \"gill-spacing\": {\"c\": \"close\", \"w\": \"crowded\", \"d\": \"distant\"},\n",
    "    \"gill-size\": {\"b\": \"broad\", \"n\": \"narrow\"},\n",
    "    \"gill-color\": {\"k\": \"black\", \"n\": \"brown\", \"b\": \"buff\", \"h\": \"chocolate\", \"g\": \"gray\", \"r\": \"green\", \"o\": \"orange\", \"p\": \"pink\", \"u\": \"purple\", \"e\": \"red\", \"w\": \"white\", \"y\": \"yellow\"},\n",
    "    \"stalk-shape\": {\"e\": \"enlarging\", \"t\": \"tapering\"},\n",
    "    \"stalk-root\": {\"b\": \"bulbous\", \"c\": \"club\", \"u\": \"cup\", \"e\": \"equal\", \"z\": \"rhizomorphs\", \"r\": \"rooted\", \"?\": \"missing\"},\n",
    "    \"stalk-surface-above-ring\": {\"f\": \"fibrous\", \"y\": \"scaly\", \"k\": \"silky\", \"s\": \"smooth\"},\n",
    "    \"stalk-surface-below-ring\": {\"f\": \"fibrous\", \"y\": \"scaly\", \"k\": \"silky\", \"s\": \"smooth\"},\n",
    "    \"stalk-color-above-ring\": {\"n\": \"brown\", \"b\": \"buff\", \"c\": \"cinnamon\", \"g\": \"gray\", \"o\": \"orange\", \"p\": \"pink\", \"e\": \"red\", \"w\": \"white\", \"y\": \"yellow\"},\n",
    "    \"stalk-color-below-ring\": {\"n\": \"brown\", \"b\": \"buff\", \"c\": \"cinnamon\", \"g\": \"gray\", \"o\": \"orange\", \"p\": \"pink\", \"e\": \"red\", \"w\": \"white\", \"y\": \"yellow\"},\n",
    "    \"veil-type\": {\"p\": \"partial\", \"u\": \"universal\"},\n",
    "    \"veil-color\": {\"n\": \"brown\", \"o\": \"orange\", \"w\": \"white\", \"y\": \"yellow\"},\n",
    "    \"ring-number\": {\"n\": \"none\", \"o\": \"one\", \"t\": \"two\"},\n",
    "    \"ring-type\": {\"c\": \"cobwebby\", \"e\": \"evanescent\", \"f\": \"flaring\", \"l\": \"large\", \"n\": \"none\", \"p\": \"pendant\", \"s\": \"sheathing\", \"z\": \"zone\"},\n",
    "    \"spore-print-color\": {\"k\": \"black\", \"n\": \"brown\", \"b\": \"buff\", \"h\": \"chocolate\", \"r\": \"green\", \"o\": \"orange\", \"u\": \"purple\", \"w\": \"white\", \"y\": \"yellow\"},\n",
    "    \"population\": {\"a\": \"abundant\", \"c\": \"clustered\", \"n\": \"numerous\", \"s\": \"scattered\", \"v\": \"several\", \"y\": \"solitary\"},\n",
    "    \"habitat\": {\"g\": \"grasses\", \"l\": \"leaves\", \"m\": \"meadows\", \"p\": \"paths\", \"u\": \"urban\", \"w\": \"waste\", \"d\": \"woods\"}\n",
    "}\n",
    "for column, mapping in mushroom_data.items():\n",
    "    if column in df.columns:\n",
    "        df[column] = df[column].replace(mapping)\n",
    "df.head(5)"
   ]
  },
  {
   "cell_type": "code",
   "execution_count": null,
   "metadata": {},
   "outputs": [],
   "source": [
    "df.info()"
   ]
  },
  {
   "cell_type": "code",
   "execution_count": null,
   "metadata": {},
   "outputs": [],
   "source": [
    "import matplotlib.pyplot as plt\n",
    "import seaborn as sns\n",
    "%matplotlib inline\n",
    "\n",
    "plt.style.use(\"ggplot\")\n",
    "\n",
    "print(df[\"class\"].value_counts())\n",
    "print()\n",
    "print(df[\"class\"].value_counts() / len(df))\n",
    "sns.countplot(df[\"class\"])\n",
    "plt.title(\"target variable\")"
   ]
  },
  {
   "cell_type": "code",
   "execution_count": null,
   "metadata": {},
   "outputs": [],
   "source": [
    "plt.style.use(\"ggplot\")\n",
    "\n",
    "for column in df:\n",
    "    if column == \"class\":\n",
    "        continue\n",
    "    plt.figure(figsize=(20,4))\n",
    "    plt.subplot(121)\n",
    "    df[column].value_counts().plot(kind=\"bar\")\n",
    "    plt.xlabel(column)\n",
    "    plt.ylabel(\"count\")\n",
    "    plt.title(column)"
   ]
  },
  {
   "cell_type": "code",
   "execution_count": null,
   "metadata": {},
   "outputs": [],
   "source": [
    "for column in df:\n",
    "    if column == \"class\":\n",
    "        continue\n",
    "    plt.figure(figsize=(20,4))\n",
    "    plt.subplot(121)\n",
    "    sns.countplot(df, x=column, hue=\"class\")\n",
    "    plt.title(column)    \n",
    "    plt.xticks(rotation=90)"
   ]
  },
  {
   "cell_type": "markdown",
   "metadata": {},
   "source": [
    "Observations on the data:\n",
    "- veil-type has one category, we should therefore exclude it from the features."
   ]
  },
  {
   "cell_type": "code",
   "execution_count": null,
   "metadata": {},
   "outputs": [],
   "source": [
    "df[\"veil-type\"].describe()"
   ]
  },
  {
   "cell_type": "code",
   "execution_count": null,
   "metadata": {},
   "outputs": [],
   "source": [
    "print(df[\"veil-color\"].describe())\n",
    "print()\n",
    "print(df.groupby(\"veil-color\").count())\n",
    "# print(df[\"veil-color\"].value_counts(normalize=True))\n",
    "print()\n",
    "veil_color_ct = pd.crosstab(df[\"veil-color\"], df[\"class\"], normalize=\"index\")\n",
    "plt.figure(figsize=(10, 6))\n",
    "sns.heatmap(veil_color_ct, annot=True, cmap='YlOrRd', fmt='.2f')\n",
    "plt.show()"
   ]
  },
  {
   "cell_type": "markdown",
   "metadata": {},
   "source": [
    "Majority of the training cases (97%) are from the category \"white\", however this category is not indicative of the target class. The other three categories are very indicative. The \"orange\" and \"brown\" categories could be merged into a single category to reduce dimensionality, they both result in edible targets. We could test with and without this merge. We might need to add an extra category for \"other\". In case the test data contains unseen categories."
   ]
  },
  {
   "cell_type": "code",
   "execution_count": null,
   "metadata": {},
   "outputs": [],
   "source": [
    "ct = pd.crosstab(df[\"habitat\"], df[\"class\"], normalize=\"index\")\n",
    "plt.figure(figsize=(10, 6))\n",
    "sns.heatmap(ct, annot=True, cmap='YlOrRd', fmt='.2f')\n",
    "plt.title('Heatmap of Independent vs. Dependent Variables')\n",
    "plt.xlabel('Dependent Variable')\n",
    "plt.ylabel('Independent Variable')\n",
    "plt.show()"
   ]
  },
  {
   "cell_type": "code",
   "execution_count": null,
   "metadata": {},
   "outputs": [],
   "source": [
    "%pip install scikit-learn"
   ]
  },
  {
   "cell_type": "code",
   "execution_count": null,
   "metadata": {},
   "outputs": [],
   "source": [
    "from sklearn.preprocessing import OneHotEncoder\n",
    "\n",
    "ohe = OneHotEncoder(handle_unknown=\"ignore\")\n",
    "encs = ohe.fit_transform(df.loc[:, df.columns != 'class'])\n",
    "enc_df = pd.DataFrame(encs.toarray(), columns=ohe.get_feature_names_out(), dtype=int)\n",
    "enc_df"
   ]
  },
  {
   "cell_type": "code",
   "execution_count": null,
   "metadata": {},
   "outputs": [],
   "source": [
    "plt.figure(figsize=(15,7))\n",
    "sns.heatmap(enc_df.corr(), annot=True)"
   ]
  }
 ],
 "metadata": {
  "kernelspec": {
   "display_name": "venv",
   "language": "python",
   "name": "python3"
  },
  "language_info": {
   "name": "python",
   "version": "3.12.2"
  }
 },
 "nbformat": 4,
 "nbformat_minor": 2
}
